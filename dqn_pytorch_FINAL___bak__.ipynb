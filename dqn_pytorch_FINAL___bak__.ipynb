{
  "nbformat": 4,
  "nbformat_minor": 0,
  "metadata": {
    "colab": {
      "provenance": []
    },
    "kernelspec": {
      "name": "python3",
      "display_name": "Python 3"
    },
    "language_info": {
      "name": "python"
    },
    "gpuClass": "standard",
    "accelerator": "GPU"
  },
  "cells": [
    {
      "cell_type": "code",
      "source": [
        "!curl ifconfig.co\n",
        "!curl ifconfig.co/country"
      ],
      "metadata": {
        "colab": {
          "base_uri": "https://localhost:8080/"
        },
        "id": "ijAE6hspRXQL",
        "outputId": "f69da63c-60d2-4f5b-e0d0-e93580a68dfa"
      },
      "execution_count": null,
      "outputs": [
        {
          "output_type": "stream",
          "name": "stdout",
          "text": [
            "34.90.247.110\n",
            "Netherlands\n"
          ]
        }
      ]
    },
    {
      "cell_type": "code",
      "execution_count": null,
      "metadata": {
        "id": "745RXo2tfnmo",
        "colab": {
          "base_uri": "https://localhost:8080/"
        },
        "outputId": "88dbf0d2-dadd-4c94-8989-da8288a6434c"
      },
      "outputs": [
        {
          "output_type": "stream",
          "name": "stdout",
          "text": [
            "Looking in indexes: https://pypi.org/simple, https://us-python.pkg.dev/colab-wheels/public/simple/\n",
            "Requirement already satisfied: QuantLib-Python in /usr/local/lib/python3.8/dist-packages (1.18)\n",
            "Requirement already satisfied: QuantLib in /usr/local/lib/python3.8/dist-packages (from QuantLib-Python) (1.28)\n"
          ]
        }
      ],
      "source": [
        "!pip install QuantLib-Python\n",
        "# !pip install gym[classic_control]"
      ]
    },
    {
      "cell_type": "code",
      "source": [
        "!pip install torch==?"
      ],
      "metadata": {
        "colab": {
          "base_uri": "https://localhost:8080/"
        },
        "id": "yepSCTZy1kzt",
        "outputId": "fb42fd48-200f-4962-9b06-e702caf4885d"
      },
      "execution_count": null,
      "outputs": [
        {
          "output_type": "stream",
          "name": "stdout",
          "text": [
            "Looking in indexes: https://pypi.org/simple, https://us-python.pkg.dev/colab-wheels/public/simple/\n",
            "\u001b[31mERROR: Could not find a version that satisfies the requirement torch==? (from versions: 1.4.0, 1.5.0, 1.5.1, 1.6.0, 1.7.0, 1.7.1, 1.8.0, 1.8.1, 1.9.0, 1.9.1, 1.10.0, 1.10.1, 1.10.2, 1.11.0, 1.12.0, 1.12.1, 1.13.0, 1.13.1)\u001b[0m\n",
            "\u001b[31mERROR: No matching distribution found for torch==?\u001b[0m\n"
          ]
        }
      ]
    },
    {
      "cell_type": "code",
      "source": [
        "import QuantLib as ql \n",
        "\n",
        "maturity = ql.Date(31, 12, 2019)\n",
        "S0 = 100\n",
        "K = 100\n",
        "r = 0.02\n",
        "sigma = 0.20\n",
        "d =  0.0\n",
        "otype = ql.Option.Put\n",
        "dc = ql.Actual365Fixed()\n",
        "calendar = ql.NullCalendar()\n",
        "\n",
        "today = ql.Date(1, 1, 2019)\n",
        "ql.Settings.instance().evaluationDate = today"
      ],
      "metadata": {
        "id": "MY6L9TtV4mBf"
      },
      "execution_count": null,
      "outputs": []
    },
    {
      "cell_type": "code",
      "source": [
        "payoff = ql.PlainVanillaPayoff(otype, K)\n",
        "\n",
        "european_exercise = ql.EuropeanExercise(maturity)\n",
        "european_option = ql.VanillaOption(payoff, european_exercise)\n",
        "\n",
        "american_exercise = ql.AmericanExercise(today, maturity)\n",
        "american_option = ql.VanillaOption(payoff, american_exercise)"
      ],
      "metadata": {
        "id": "HzBQLg2zgXBi"
      },
      "execution_count": null,
      "outputs": []
    },
    {
      "cell_type": "code",
      "source": [
        "d_ts = ql.YieldTermStructureHandle(ql.FlatForward(today, d, dc))\n",
        "r_ts = ql.YieldTermStructureHandle(ql.FlatForward(today, r, dc))\n",
        "sigma_ts = ql.BlackVolTermStructureHandle(ql.BlackConstantVol(today, calendar, sigma, dc))\n",
        "bsm_process = ql.BlackScholesMertonProcess(ql.QuoteHandle(ql.SimpleQuote(S0)), d_ts, r_ts, sigma_ts)"
      ],
      "metadata": {
        "id": "5NpQFCPOgYXo"
      },
      "execution_count": null,
      "outputs": []
    },
    {
      "cell_type": "code",
      "source": [
        "pricing_dict = {}\n",
        "\n",
        "bsm73 = ql.AnalyticEuropeanEngine(bsm_process)\n",
        "european_option.setPricingEngine(bsm73)\n",
        "pricing_dict['BlackScholesEuropean'] = european_option.NPV()\n",
        "\n",
        "analytical_engine = ql.BaroneAdesiWhaleyApproximationEngine(bsm_process)\n",
        "american_option.setPricingEngine(analytical_engine)\n",
        "pricing_dict['BawApproximation'] = american_option.NPV()\n",
        "\n",
        "binomial_engine = ql.BinomialVanillaEngine(bsm_process, \"crr\", 100)\n",
        "american_option.setPricingEngine(binomial_engine)\n",
        "pricing_dict['BinomialTree'] = american_option.NPV()\n",
        "\n",
        "# fd_engine = ql.FdBlackScholesVanillaEngine(bsm_process)\n",
        "# american_option.setPricingEngine(fd_engine)\n",
        "# pricing_dict['FiniteDifference'] = american_option.NPV()\n",
        "\n",
        "print(pricing_dict)"
      ],
      "metadata": {
        "colab": {
          "base_uri": "https://localhost:8080/"
        },
        "id": "EcXML1BggZ-e",
        "outputId": "841dd055-1b7e-4bd0-ffb4-e6d30056f5be"
      },
      "execution_count": null,
      "outputs": [
        {
          "output_type": "stream",
          "name": "stdout",
          "text": [
            "{'BlackScholesEuropean': 6.92786901829998, 'BawApproximation': 7.091254636695334, 'BinomialTree': 7.090924645858217}\n"
          ]
        }
      ]
    },
    {
      "cell_type": "code",
      "source": [
        "import numpy as np\n",
        "import gym\n",
        "class AmeriOptionEnv(gym.Env):\n",
        "    def __init__(self):\n",
        "        self.S0 = 100.0\n",
        "        self.K = 100.0\n",
        "        self.r = 0.02\n",
        "        self.sigma = 0.20\n",
        "        self.T = 1.0\n",
        "        self.N = 365    # 365 day\n",
        "\n",
        "        self.S1 = 0\n",
        "        self.reward = 0\n",
        "        self.day_step = 0    # from day 0 taking N steps to day N\n",
        "\n",
        "        self.action_space = gym.spaces.Discrete(2)         # 0: hold, 1:exercise\n",
        "        self.observation_space = gym.spaces.Box(low=np.array([0, 0]), high=np.array([np.inf, 1.0]), dtype=np.float32)      # S in [0, inf], tao in [0, 1]\n",
        "\n",
        "    def step(self, action):\n",
        "        if action == 1:        # exercise\n",
        "            reward = max(K-self.S1, 0.0) * np.exp(-self.r * self.T * (self.day_step/self.N))\n",
        "            done = True\n",
        "        else:       # hold\n",
        "            if self.day_step == self.N:    # at maturity\n",
        "                reward = max(self.K-self.S1, 0.0) * np.exp(-self.r * self.T)\n",
        "                done = True\n",
        "            else: # move to tomorrow\n",
        "                reward = 0\n",
        "                # lnS1 - lnS0 = (r - 0.5*sigma^2)*t + sigma * Wt\n",
        "                self.S1 = self.S1 * np.exp((self.r - 0.5 * self.sigma**2) * (self.T/self.N) + self.sigma * np.sqrt(self.T/self.N) * np.random.normal())\n",
        "                self.day_step += 1\n",
        "                done = False\n",
        "\n",
        "        tao = 1.0-self.day_step/self.N        # time to maturity, in unit of years\n",
        "        return np.array([self.S1, tao]), reward, done, {}\n",
        "\n",
        "    def reset(self):\n",
        "        self.day_step = 0\n",
        "        self.S1 = self.S0\n",
        "        tao = 1.0-self.day_step/self.N        # time to maturity, in unit of years\n",
        "        # return np.array([self.S1, tao], dtype='float32')\n",
        "        return [self.S1, tao]\n",
        "\n",
        "    \n",
        "    def render(self):\n",
        "        \"\"\"\n",
        "        make video\n",
        "        \"\"\"\n",
        "        pass\n",
        "\n",
        "    def close(self):\n",
        "        pass\n",
        "\n",
        "env_name = AmeriOptionEnv()"
      ],
      "metadata": {
        "id": "zBHC1EGVgbc7"
      },
      "execution_count": null,
      "outputs": []
    },
    {
      "cell_type": "code",
      "source": [
        "import matplotlib.pyplot as plt\n",
        "\n",
        "s = env_name.reset()\n",
        "\n",
        "sim_prices = []\n",
        "sim_prices.append(s[0])\n",
        "for i in range(365):\n",
        "  action = 0\n",
        "  s_next, reward, done, info = env_name.step(action)\n",
        "  sim_prices.append(s_next[0])\n",
        "\n",
        "plt.xlabel('Date')\n",
        "plt.ylabel('Stock Price')\n",
        "plt.plot(sim_prices)"
      ],
      "metadata": {
        "colab": {
          "base_uri": "https://localhost:8080/",
          "height": 296
        },
        "id": "9joa6C8WgdG4",
        "outputId": "02bcbed4-aa3d-4330-8575-250b0549e2ff"
      },
      "execution_count": null,
      "outputs": [
        {
          "output_type": "execute_result",
          "data": {
            "text/plain": [
              "[<matplotlib.lines.Line2D at 0x7fedfb056e20>]"
            ]
          },
          "metadata": {},
          "execution_count": 13
        },
        {
          "output_type": "display_data",
          "data": {
            "text/plain": [
              "<Figure size 432x288 with 1 Axes>"
            ],
            "image/png": "[encoded data removed]"
          },
          "metadata": {
            "needs_background": "light"
          }
        }
      ]
    },
    {
      "cell_type": "markdown",
      "source": [
        "### Section Three -- Reinforcement Learning \n",
        "PyTorch to train a DQN agent [link](https://pytorch.org/docs/stable/torch.html)"
      ],
      "metadata": {
        "id": "I73_QaiFg4bW"
      }
    },
    {
      "cell_type": "code",
      "source": [
        "import gym\n",
        "import copy \n",
        "import numpy as np\n",
        "from collections import namedtuple\n",
        "from itertools import count\n",
        "from tqdm import tqdm\n",
        "\n",
        "import torch\n",
        "import torch.nn as nn\n",
        "import torch.optim as optim\n",
        "import torch.nn.functional as F\n",
        "from torch.distributions import Categorical"
      ],
      "metadata": {
        "id": "L6irBo58hqgQ"
      },
      "execution_count": null,
      "outputs": []
    },
    {
      "cell_type": "code",
      "source": [
        "SavedAction = namedtuple('SavedAction', ['log_prob', 'value'])"
      ],
      "metadata": {
        "id": "lJ3UZMPafSLK"
      },
      "execution_count": null,
      "outputs": []
    },
    {
      "cell_type": "code",
      "source": [
        "class Policy(nn.Module):\n",
        "    def __init__(self):\n",
        "        super(Policy, self).__init__()\n",
        "        self.fc1 = nn.Linear(2, 128) # 2 because there are 2 parameters as the observation space\n",
        "        self.actor = nn.Linear(128, 2) # 2 for the number of actions\n",
        "        self.critic = nn.Linear(128, 1) # Critic is always 1\n",
        "        self.saved_actions = []\n",
        "        self.rewards = []\n",
        "        self.action = 0\n",
        "    def forward(self, x):\n",
        "        x = F.relu(self.fc1(x))\n",
        "        action_prob = F.softmax(self.actor(x), dim=-1, dtype=torch.double)\n",
        "        state_values = self.critic(x)\n",
        "        return action_prob, state_values"
      ],
      "metadata": {
        "id": "jafJ6s9Bf8Zx"
      },
      "execution_count": null,
      "outputs": []
    },
    {
      "cell_type": "code",
      "source": [
        "# Hyper-parameters\n",
        "num_iterations = 1000 # @param {type:\"integer\"} # Takes a lot of time\n",
        "learning_rate = 3e-1  # @param {type:\"number\"}\n",
        "log_interval = 10  # @param {type:\"integer\"} # print log after this many iterations\n",
        "\n",
        "\n",
        "# initial_collect_steps = 100  # @param {type:\"integer\"}\n",
        "# collect_steps_per_iteration =   1# @param {type:\"integer\"}\n",
        "# replay_buffer_max_length = 100000  # @param {type:\"integer\"}\n",
        "# batch_size = 64  # @param {type:\"integer\"}\n",
        "# num_eval_episodes = 10  # @param {type:\"integer\"}\n",
        "# eval_interval = 1000  # @param {type:\"integer\"}"
      ],
      "metadata": {
        "id": "T7KKnbZzOpOR"
      },
      "execution_count": null,
      "outputs": []
    },
    {
      "cell_type": "code",
      "source": [
        "model = Policy()\n",
        "optimizer = optim.Adam(model.parameters(), lr=learning_rate)\n",
        "eps = np.finfo(np.float32).eps.item()"
      ],
      "metadata": {
        "id": "leCMrui6gAvY"
      },
      "execution_count": null,
      "outputs": []
    },
    {
      "cell_type": "code",
      "source": [
        "# We make the Cartpole environment here With Wrapping the env\n",
        "\n",
        "env = gym.Wrapper(env_name, new_step_api=True)"
      ],
      "metadata": {
        "id": "7f-UkT9sfbt8"
      },
      "execution_count": null,
      "outputs": []
    },
    {
      "cell_type": "code",
      "source": [
        "print(\"There are {} actions\".format(env.action_space.n))"
      ],
      "metadata": {
        "colab": {
          "base_uri": "https://localhost:8080/"
        },
        "id": "1u3q7EAaf1x5",
        "outputId": "8ca51291-f25f-4400-be21-18fb4aa1dfde"
      },
      "execution_count": null,
      "outputs": [
        {
          "output_type": "stream",
          "name": "stdout",
          "text": [
            "There are 2 actions\n"
          ]
        }
      ]
    },
    {
      "cell_type": "code",
      "source": [
        "def finish_episode():\n",
        "    # We calculate the losses and perform backprop in this function\n",
        "    R = 0\n",
        "    saved_actions = model.saved_actions\n",
        "    policy_losses = []\n",
        "    value_losses =[]\n",
        "    returns = []\n",
        "    \n",
        "    for r in model.rewards[::-1]:\n",
        "        R = r + 0.99 * R # 0.99 is our gamma number\n",
        "        returns.insert(0, R)\n",
        "    returns = torch.tensor(returns)\n",
        "    returns = (returns - returns.mean()) / (returns.std() + eps)\n",
        "    \n",
        "    for (log_prob, value), R in zip(saved_actions, returns):\n",
        "        advantage = R - value.item()\n",
        "        \n",
        "        policy_losses.append(-log_prob * advantage)\n",
        "        value_losses.append(F.smooth_l1_loss(value, torch.tensor([R])))\n",
        "    \n",
        "    optimizer.zero_grad()\n",
        "    loss = torch.stack(policy_losses).sum() + torch.stack(value_losses).sum()\n",
        "    \n",
        "    loss.backward()\n",
        "    optimizer.step()\n",
        "    \n",
        "    del model.rewards[:]\n",
        "    del model.saved_actions[:]\n",
        "\n",
        "def select_action(state):\n",
        "    state = torch.from_numpy(state).float()\n",
        "    probs, state_value = model(state)\n",
        "    m = Categorical(probs)\n",
        "    action = m.sample()\n",
        "    model.saved_actions.append(SavedAction(m.log_prob(action), state_value))\n",
        "    return model.action"
      ],
      "metadata": {
        "id": "hAIiPPRegFyE"
      },
      "execution_count": null,
      "outputs": []
    },
    {
      "cell_type": "code",
      "source": [
        "# Takes a lot of time\n",
        "def train(num_episodes = 100):\n",
        "  \"\"\"\n",
        "  default num_episodes = 100\n",
        "  \"\"\"\n",
        "\n",
        "  running_reward = 10\n",
        "  for i_episode in range(num_episodes): # We need around this much episodes\n",
        "    state = env.reset()\n",
        "    state = np.array(state, dtype=np.float32)\n",
        "\n",
        "    ep_reward = 0\n",
        "    for t in count():\n",
        "      action = select_action(state) \n",
        "      state, reward, terminated, truncated, _ = env.step(action)\n",
        "      model.rewards.append(reward)\n",
        "      ep_reward += reward\n",
        "      done = terminated or truncated\n",
        "      if done:\n",
        "          break\n",
        "    running_reward = 0.05 * ep_reward + (1-0.05) * running_reward\n",
        "    finish_episode()\n",
        "    if i_episode % log_interval == 0: # We will print some things out\n",
        "      print(\"Episode {}\\tLast Reward: {:.2f}\\tAverage reward: {:.2f}\".format(\n",
        "          i_episode, ep_reward, running_reward\n",
        "      ))\n",
        "\n",
        "\n",
        "    if running_reward > 100:\n",
        "      print(\"Solved, running reward is now {} and the last episode runs to {} time steps\".format(\n",
        "              running_reward, t\n",
        "      ))\n",
        "      break\n",
        "        # This means that we solved cartpole and training is complete"
      ],
      "metadata": {
        "id": "EqgCMABJgIjE"
      },
      "execution_count": null,
      "outputs": []
    },
    {
      "cell_type": "code",
      "source": [
        "%%time\n",
        "train(num_iterations)"
      ],
      "metadata": {
        "colab": {
          "base_uri": "https://localhost:8080/"
        },
        "id": "o7QqFw7HgnRq",
        "outputId": "6ceebe75-8dc7-46ba-be75-77c317a5acc9"
      },
      "execution_count": null,
      "outputs": [
        {
          "output_type": "stream",
          "name": "stdout",
          "text": [
            "Episode 0\tLast Reward: 0.00\tAverage reward: 9.50\n",
            "Episode 10\tLast Reward: 0.00\tAverage reward: 6.74\n",
            "Episode 20\tLast Reward: 0.00\tAverage reward: 5.74\n",
            "Episode 30\tLast Reward: 0.00\tAverage reward: 6.90\n",
            "Episode 40\tLast Reward: 5.31\tAverage reward: 7.92\n",
            "Episode 50\tLast Reward: 0.00\tAverage reward: 5.06\n",
            "Episode 60\tLast Reward: 1.72\tAverage reward: 5.00\n",
            "Episode 70\tLast Reward: 0.00\tAverage reward: 4.08\n",
            "Episode 80\tLast Reward: 0.00\tAverage reward: 3.63\n",
            "Episode 90\tLast Reward: 0.00\tAverage reward: 5.27\n",
            "Episode 100\tLast Reward: 0.00\tAverage reward: 5.33\n",
            "Episode 110\tLast Reward: 0.00\tAverage reward: 5.73\n",
            "Episode 120\tLast Reward: 0.00\tAverage reward: 5.63\n",
            "Episode 130\tLast Reward: 6.40\tAverage reward: 5.82\n",
            "Episode 140\tLast Reward: 14.03\tAverage reward: 7.56\n",
            "Episode 150\tLast Reward: 0.00\tAverage reward: 7.56\n",
            "Episode 160\tLast Reward: 3.80\tAverage reward: 8.24\n",
            "Episode 170\tLast Reward: 0.00\tAverage reward: 8.69\n",
            "Episode 180\tLast Reward: 17.17\tAverage reward: 7.59\n",
            "Episode 190\tLast Reward: 0.00\tAverage reward: 8.22\n",
            "Episode 200\tLast Reward: 0.00\tAverage reward: 9.35\n",
            "Episode 210\tLast Reward: 0.00\tAverage reward: 8.87\n",
            "Episode 220\tLast Reward: 0.00\tAverage reward: 9.25\n",
            "Episode 230\tLast Reward: 13.97\tAverage reward: 9.89\n",
            "Episode 240\tLast Reward: 30.52\tAverage reward: 8.52\n",
            "Episode 250\tLast Reward: 10.96\tAverage reward: 7.09\n",
            "Episode 260\tLast Reward: 0.00\tAverage reward: 5.92\n",
            "Episode 270\tLast Reward: 0.00\tAverage reward: 8.52\n",
            "Episode 280\tLast Reward: 1.16\tAverage reward: 6.18\n",
            "Episode 290\tLast Reward: 0.00\tAverage reward: 4.26\n",
            "Episode 300\tLast Reward: 8.47\tAverage reward: 5.45\n",
            "Episode 310\tLast Reward: 0.00\tAverage reward: 5.57\n",
            "Episode 320\tLast Reward: 29.10\tAverage reward: 5.62\n",
            "Episode 330\tLast Reward: 13.93\tAverage reward: 7.20\n",
            "Episode 340\tLast Reward: 7.58\tAverage reward: 7.53\n",
            "Episode 350\tLast Reward: 0.00\tAverage reward: 7.56\n",
            "Episode 360\tLast Reward: 12.21\tAverage reward: 5.66\n",
            "Episode 370\tLast Reward: 2.37\tAverage reward: 6.76\n",
            "Episode 380\tLast Reward: 2.61\tAverage reward: 4.58\n",
            "Episode 390\tLast Reward: 17.98\tAverage reward: 6.01\n",
            "Episode 400\tLast Reward: 23.41\tAverage reward: 5.53\n",
            "Episode 410\tLast Reward: 0.00\tAverage reward: 4.73\n",
            "Episode 420\tLast Reward: 0.00\tAverage reward: 4.22\n",
            "Episode 430\tLast Reward: 16.07\tAverage reward: 5.94\n",
            "Episode 440\tLast Reward: 32.07\tAverage reward: 8.34\n",
            "Episode 450\tLast Reward: 0.00\tAverage reward: 7.78\n",
            "Episode 460\tLast Reward: 5.65\tAverage reward: 6.46\n",
            "Episode 470\tLast Reward: 0.00\tAverage reward: 6.68\n",
            "Episode 480\tLast Reward: 9.34\tAverage reward: 8.51\n",
            "Episode 490\tLast Reward: 7.98\tAverage reward: 9.42\n",
            "Episode 500\tLast Reward: 0.00\tAverage reward: 9.56\n",
            "Episode 510\tLast Reward: 9.76\tAverage reward: 9.74\n",
            "Episode 520\tLast Reward: 5.79\tAverage reward: 7.33\n",
            "Episode 530\tLast Reward: 0.00\tAverage reward: 6.57\n",
            "Episode 540\tLast Reward: 0.00\tAverage reward: 5.48\n",
            "Episode 550\tLast Reward: 0.00\tAverage reward: 3.64\n",
            "Episode 560\tLast Reward: 0.00\tAverage reward: 4.93\n",
            "Episode 570\tLast Reward: 23.25\tAverage reward: 6.40\n",
            "Episode 580\tLast Reward: 0.00\tAverage reward: 9.11\n",
            "Episode 590\tLast Reward: 0.00\tAverage reward: 7.05\n",
            "Episode 600\tLast Reward: 23.85\tAverage reward: 9.29\n",
            "Episode 610\tLast Reward: 27.01\tAverage reward: 10.00\n",
            "Episode 620\tLast Reward: 19.16\tAverage reward: 9.35\n",
            "Episode 630\tLast Reward: 0.00\tAverage reward: 7.31\n",
            "Episode 640\tLast Reward: 6.09\tAverage reward: 8.01\n",
            "Episode 650\tLast Reward: 0.00\tAverage reward: 6.92\n",
            "Episode 660\tLast Reward: 0.00\tAverage reward: 7.05\n",
            "Episode 670\tLast Reward: 0.00\tAverage reward: 4.35\n",
            "Episode 680\tLast Reward: 0.00\tAverage reward: 2.78\n",
            "Episode 690\tLast Reward: 0.00\tAverage reward: 4.88\n",
            "Episode 700\tLast Reward: 7.84\tAverage reward: 4.93\n",
            "Episode 710\tLast Reward: 2.31\tAverage reward: 6.07\n",
            "Episode 720\tLast Reward: 15.31\tAverage reward: 10.63\n",
            "Episode 730\tLast Reward: 21.10\tAverage reward: 9.32\n",
            "Episode 740\tLast Reward: 0.00\tAverage reward: 7.72\n",
            "Episode 750\tLast Reward: 0.00\tAverage reward: 9.41\n",
            "Episode 760\tLast Reward: 12.92\tAverage reward: 8.47\n",
            "Episode 770\tLast Reward: 18.21\tAverage reward: 7.05\n",
            "Episode 780\tLast Reward: 0.00\tAverage reward: 7.23\n",
            "Episode 790\tLast Reward: 9.71\tAverage reward: 6.57\n",
            "Episode 800\tLast Reward: 21.23\tAverage reward: 6.22\n",
            "Episode 810\tLast Reward: 0.00\tAverage reward: 6.18\n",
            "Episode 820\tLast Reward: 0.00\tAverage reward: 6.51\n",
            "Episode 830\tLast Reward: 2.46\tAverage reward: 6.85\n",
            "Episode 840\tLast Reward: 1.28\tAverage reward: 6.62\n",
            "Episode 850\tLast Reward: 0.00\tAverage reward: 7.22\n",
            "Episode 860\tLast Reward: 5.44\tAverage reward: 4.83\n",
            "Episode 870\tLast Reward: 0.00\tAverage reward: 5.66\n",
            "Episode 880\tLast Reward: 0.00\tAverage reward: 5.99\n",
            "Episode 890\tLast Reward: 0.00\tAverage reward: 5.91\n",
            "Episode 900\tLast Reward: 0.00\tAverage reward: 5.44\n",
            "Episode 910\tLast Reward: 7.72\tAverage reward: 6.65\n",
            "Episode 920\tLast Reward: 25.95\tAverage reward: 7.53\n",
            "Episode 930\tLast Reward: 8.35\tAverage reward: 7.02\n",
            "Episode 940\tLast Reward: 0.00\tAverage reward: 8.91\n",
            "Episode 950\tLast Reward: 0.00\tAverage reward: 8.84\n",
            "Episode 960\tLast Reward: 4.64\tAverage reward: 8.69\n",
            "Episode 970\tLast Reward: 6.93\tAverage reward: 10.27\n",
            "Episode 980\tLast Reward: 0.00\tAverage reward: 9.04\n",
            "Episode 990\tLast Reward: 0.00\tAverage reward: 8.45\n",
            "CPU times: user 4min 47s, sys: 1.23 s, total: 4min 49s\n",
            "Wall time: 5min 7s\n"
          ]
        }
      ]
    },
    {
      "cell_type": "code",
      "source": [
        "\n",
        "def compute_avg_return(num_episodes=10):\n",
        "  # env_2 = copy.deepcopy(env) # clone of env. Should not alter thr original on reset()\n",
        "  env_2 = env\n",
        "\n",
        "  running_reward = 10\n",
        "  total_return = 0.0\n",
        "  for i_episode in range(num_episodes): \n",
        "    state = env_2.reset()\n",
        "    state = np.array(state)\n",
        "    ep_reward = 0\n",
        "    for t in count():\n",
        "      action = select_action(state)  \n",
        "      state, reward, terminated, truncated, _ = env_2.step(action)      \n",
        "      ep_reward += reward\n",
        "      done = terminated or truncated\n",
        "      if done:\n",
        "        break\n",
        "    running_reward = 0.05 * ep_reward + (1-0.05) * running_reward\n",
        "    total_return += running_reward\n",
        "  avg_return = total_return / num_episodes\n",
        "  # print(\"Avg Reword:\\t\",avg_return)\n",
        "  return avg_return"
      ],
      "metadata": {
        "id": "3tfsmhUyMcmh"
      },
      "execution_count": null,
      "outputs": []
    },
    {
      "cell_type": "code",
      "source": [
        "compute_avg_return()"
      ],
      "metadata": {
        "colab": {
          "base_uri": "https://localhost:8080/"
        },
        "id": "mEdPKNYjNHDd",
        "outputId": "169abd28-68e3-4e3e-ae10-bf622a13e412"
      },
      "execution_count": null,
      "outputs": [
        {
          "output_type": "execute_result",
          "data": {
            "text/plain": [
              "10.61271712343363"
            ]
          },
          "metadata": {},
          "execution_count": 25
        }
      ]
    },
    {
      "cell_type": "code",
      "source": [
        "%%time\n",
        "# Monte Carlo simulation -- takes a while\n",
        "# VERY memory intensive\n",
        "\n",
        "npv = compute_avg_return(num_episodes=500)\n",
        "pricing_dict['ReinforcementAgent'] = npv\n",
        "print(npv)"
      ],
      "metadata": {
        "colab": {
          "base_uri": "https://localhost:8080/"
        },
        "id": "1plFuH8hN9yN",
        "outputId": "1c6226a9-94cf-4f33-f45b-d1ce023a4fc3"
      },
      "execution_count": null,
      "outputs": [
        {
          "output_type": "stream",
          "name": "stdout",
          "text": [
            "7.5992555879436035\n"
          ]
        }
      ]
    },
    {
      "cell_type": "code",
      "source": [
        "import pandas as pd\n",
        "pricing_df = pd.DataFrame.from_dict(pricing_dict, orient='index')\n",
        "pricing_df.columns = ['Price']\n",
        "pricing_df"
      ],
      "metadata": {
        "colab": {
          "base_uri": "https://localhost:8080/",
          "height": 175
        },
        "id": "zow5SmvFODNl",
        "outputId": "18cd96ba-c359-4147-d698-64ca49a488ca"
      },
      "execution_count": null,
      "outputs": [
        {
          "output_type": "execute_result",
          "data": {
            "text/plain": [
              "                         Price\n",
              "BlackScholesEuropean  6.927869\n",
              "BawApproximation      7.091255\n",
              "BinomialTree          7.090925\n",
              "ReinforcementAgent    7.599256"
            ],
            "text/html": [
              "\n",
              "  <div id=\"df-67388508-d1b1-4c1f-83d3-d2246113928a\">\n",
              "    <div class=\"colab-df-container\">\n",
              "      <div>\n",
              "<style scoped>\n",
              "    .dataframe tbody tr th:only-of-type {\n",
              "        vertical-align: middle;\n",
              "    }\n",
              "\n",
              "    .dataframe tbody tr th {\n",
              "        vertical-align: top;\n",
              "    }\n",
              "\n",
              "    .dataframe thead th {\n",
              "        text-align: right;\n",
              "    }\n",
              "</style>\n",
              "<table border=\"1\" class=\"dataframe\">\n",
              "  <thead>\n",
              "    <tr style=\"text-align: right;\">\n",
              "      <th></th>\n",
              "      <th>Price</th>\n",
              "    </tr>\n",
              "  </thead>\n",
              "  <tbody>\n",
              "    <tr>\n",
              "      <th>BlackScholesEuropean</th>\n",
              "      <td>6.927869</td>\n",
              "    </tr>\n",
              "    <tr>\n",
              "      <th>BawApproximation</th>\n",
              "      <td>7.091255</td>\n",
              "    </tr>\n",
              "    <tr>\n",
              "      <th>BinomialTree</th>\n",
              "      <td>7.090925</td>\n",
              "    </tr>\n",
              "    <tr>\n",
              "      <th>ReinforcementAgent</th>\n",
              "      <td>7.599256</td>\n",
              "    </tr>\n",
              "  </tbody>\n",
              "</table>\n",
              "</div>\n",
              "      <button class=\"colab-df-convert\" onclick=\"convertToInteractive('df-67388508-d1b1-4c1f-83d3-d2246113928a')\"\n",
              "              title=\"Convert this dataframe to an interactive table.\"\n",
              "              style=\"display:none;\">\n",
              "        \n",
              "  <svg xmlns=\"http://www.w3.org/2000/svg\" height=\"24px\"viewBox=\"0 0 24 24\"\n",
              "       width=\"24px\">\n",
              "    <path d=\"M0 0h24v24H0V0z\" fill=\"none\"/>\n",
              "    <path d=\"M18.56 5.44l.94 2.06.94-2.06 2.06-.94-2.06-.94-.94-2.06-.94 2.06-2.06.94zm-11 1L8.5 8.5l.94-2.06 2.06-.94-2.06-.94L8.5 2.5l-.94 2.06-2.06.94zm10 10l.94 2.06.94-2.06 2.06-.94-2.06-.94-.94-2.06-.94 2.06-2.06.94z\"/><path d=\"M17.41 7.96l-1.37-1.37c-.4-.4-.92-.59-1.43-.59-.52 0-1.04.2-1.43.59L10.3 9.45l-7.72 7.72c-.78.78-.78 2.05 0 2.83L4 21.41c.39.39.9.59 1.41.59.51 0 1.02-.2 1.41-.59l7.78-7.78 2.81-2.81c.8-.78.8-2.07 0-2.86zM5.41 20L4 18.59l7.72-7.72 1.47 1.35L5.41 20z\"/>\n",
              "  </svg>\n",
              "      </button>\n",
              "      \n",
              "  <style>\n",
              "    .colab-df-container {\n",
              "      display:flex;\n",
              "      flex-wrap:wrap;\n",
              "      gap: 12px;\n",
              "    }\n",
              "\n",
              "    .colab-df-convert {\n",
              "      background-color: #E8F0FE;\n",
              "      border: none;\n",
              "      border-radius: 50%;\n",
              "      cursor: pointer;\n",
              "      display: none;\n",
              "      fill: #1967D2;\n",
              "      height: 32px;\n",
              "      padding: 0 0 0 0;\n",
              "      width: 32px;\n",
              "    }\n",
              "\n",
              "    .colab-df-convert:hover {\n",
              "      background-color: #E2EBFA;\n",
              "      box-shadow: 0px 1px 2px rgba(60, 64, 67, 0.3), 0px 1px 3px 1px rgba(60, 64, 67, 0.15);\n",
              "      fill: #174EA6;\n",
              "    }\n",
              "\n",
              "    [theme=dark] .colab-df-convert {\n",
              "      background-color: #3B4455;\n",
              "      fill: #D2E3FC;\n",
              "    }\n",
              "\n",
              "    [theme=dark] .colab-df-convert:hover {\n",
              "      background-color: #434B5C;\n",
              "      box-shadow: 0px 1px 3px 1px rgba(0, 0, 0, 0.15);\n",
              "      filter: drop-shadow(0px 1px 2px rgba(0, 0, 0, 0.3));\n",
              "      fill: #FFFFFF;\n",
              "    }\n",
              "  </style>\n",
              "\n",
              "      <script>\n",
              "        const buttonEl =\n",
              "          document.querySelector('#df-67388508-d1b1-4c1f-83d3-d2246113928a button.colab-df-convert');\n",
              "        buttonEl.style.display =\n",
              "          google.colab.kernel.accessAllowed ? 'block' : 'none';\n",
              "\n",
              "        async function convertToInteractive(key) {\n",
              "          const element = document.querySelector('#df-67388508-d1b1-4c1f-83d3-d2246113928a');\n",
              "          const dataTable =\n",
              "            await google.colab.kernel.invokeFunction('convertToInteractive',\n",
              "                                                     [key], {});\n",
              "          if (!dataTable) return;\n",
              "\n",
              "          const docLinkHtml = 'Like what you see? Visit the ' +\n",
              "            '<a target=\"_blank\" href=https://colab.research.google.com/notebooks/data_table.ipynb>data table notebook</a>'\n",
              "            + ' to learn more about interactive tables.';\n",
              "          element.innerHTML = '';\n",
              "          dataTable['output_type'] = 'display_data';\n",
              "          await google.colab.output.renderOutput(dataTable, element);\n",
              "          const docLink = document.createElement('div');\n",
              "          docLink.innerHTML = docLinkHtml;\n",
              "          element.appendChild(docLink);\n",
              "        }\n",
              "      </script>\n",
              "    </div>\n",
              "  </div>\n",
              "  "
            ]
          },
          "metadata": {},
          "execution_count": 27
        }
      ]
    }
  ]
}